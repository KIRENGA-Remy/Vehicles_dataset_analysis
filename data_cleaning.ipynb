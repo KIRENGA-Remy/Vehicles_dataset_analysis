{
 "cells": [
  {
   "cell_type": "code",
   "execution_count": 3,
   "id": "85390ec1-aafb-44c6-a06c-1750ce39e685",
   "metadata": {},
   "outputs": [
    {
     "name": "stdout",
     "output_type": "stream",
     "text": [
      "Unnamed: 0                    int64\n",
      "vin                          object\n",
      "manufacturer                 object\n",
      "year                          int64\n",
      "color                        object\n",
      "body_type                    object\n",
      "engine_type                  object\n",
      "transmission                 object\n",
      "fuel_type                    object\n",
      "seating_capacity              int64\n",
      "kilometers_driven           float64\n",
      "vehicle_condition_status     object\n",
      "selling_price               float64\n",
      "owner_name                   object\n",
      "owner_profession             object\n",
      "owner_age                     int64\n",
      "owner_district               object\n",
      "proposed_purchase_price     float64\n",
      "purchase_date                object\n",
      "dtype: object\n",
      "0     5980.16\n",
      "1     8778.19\n",
      "2     8921.27\n",
      "3    16953.98\n",
      "4    21727.87\n",
      "Name: selling_price, dtype: float64\n"
     ]
    }
   ],
   "source": [
    "import pandas as pd\n",
    "\n",
    "file_path = 'vehicles.csv'\n",
    "\n",
    "try:\n",
    "    data = pd.read_csv(file_path)\n",
    "    # Check data types\n",
    "    print(data.dtypes)\n",
    "\n",
    "    # Ensure 'selling_price' is treated as a string for replacement, then convert to float\n",
    "    data['selling_price'] = data['selling_price'].astype(str).str.replace(',', '', regex=True)\n",
    "\n",
    "    # Handle potential non-numeric values gracefully\n",
    "    data['selling_price'] = pd.to_numeric(data['selling_price'], errors='coerce')\n",
    "\n",
    "    print(data['selling_price'].head())\n",
    "except FileNotFoundError:\n",
    "    print(f\"Error: The file '{file_path}' was not found.\")\n",
    "except pd.errors.EmptyDataError:\n",
    "    print(\"Error: The file is empty.\")\n",
    "except Exception as e:\n",
    "    print(f\"An unexpected error occurred: {e}\")\n"
   ]
  },
  {
   "cell_type": "code",
   "execution_count": null,
   "id": "2139acb2-e884-45bb-b27a-b16e9253abdf",
   "metadata": {},
   "outputs": [],
   "source": []
  }
 ],
 "metadata": {
  "kernelspec": {
   "display_name": "Python 3 (ipykernel)",
   "language": "python",
   "name": "python3"
  },
  "language_info": {
   "codemirror_mode": {
    "name": "ipython",
    "version": 3
   },
   "file_extension": ".py",
   "mimetype": "text/x-python",
   "name": "python",
   "nbconvert_exporter": "python",
   "pygments_lexer": "ipython3",
   "version": "3.12.6"
  }
 },
 "nbformat": 4,
 "nbformat_minor": 5
}
