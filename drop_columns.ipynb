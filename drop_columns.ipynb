{
 "cells": [
  {
   "cell_type": "code",
   "execution_count": 4,
   "id": "967b54a7-02c0-46cc-8f06-7fcd0b1f6877",
   "metadata": {},
   "outputs": [
    {
     "name": "stdout",
     "output_type": "stream",
     "text": [
      "VIN OWNER_AGE OWNER_NAME PURCHASE_DATE deleted\n",
      "   Unnamed: 0 manufacturer  year            color    body_type engine_type  \\\n",
      "0           0   Volkswagen  2023   metallic_black        Truck    electric   \n",
      "1           1         Audi  2021      matte_black  Convertible      diesel   \n",
      "2           2       Nissan  2020  metallic_silver        Wagon      petrol   \n",
      "3           3    Chevrolet  2012             gray          Van      petrol   \n",
      "4           4       Nissan  2009           purple    Hatchback      petrol   \n",
      "\n",
      "  transmission  fuel_type  seating_capacity  kilometers_driven  \\\n",
      "0       manual   gasoline                 6              19.84   \n",
      "1    automatic     hybrid                10              19.83   \n",
      "2       manual  biodiesel                 3              78.73   \n",
      "3    automatic    ethanol                 6              46.02   \n",
      "4       manual   gasoline                10             247.39   \n",
      "\n",
      "  vehicle_condition_status  selling_price owner_profession  owner_district  \\\n",
      "0                 inactive        5980.16        librarian  east_nyagatare   \n",
      "1                   active        8778.19        economist   south_kamonyi   \n",
      "2                 inactive        8921.27         mechanic   kigali_gasabo   \n",
      "3                 inactive       16953.98      hairdresser     west_rusizi   \n",
      "4                   active       21727.87            baker  east_rwamagana   \n",
      "\n",
      "   proposed_purchase_price  \n",
      "0                  6705.76  \n",
      "1                 10008.46  \n",
      "2                 10219.33  \n",
      "3                 19288.22  \n",
      "4                 22848.39  \n"
     ]
    }
   ],
   "source": [
    "import pandas as pd\n",
    "import seaborn as sns\n",
    "import numpy as np\n",
    "import matplotlib.pyplot as plt\n",
    "\n",
    "file_path = 'vehicles.csv'\n",
    "\n",
    "try: \n",
    "   data= pd.read_csv(file_path)\n",
    "   data=data.drop(['vin', 'owner_age', 'owner_name', 'purchase_date'], axis=1)\n",
    "   print('VIN OWNER_AGE OWNER_NAME PURCHASE_DATE deleted')\n",
    "   print(data.head())\n",
    "\n",
    "except FileNotFoundError:\n",
    "    print(f\"Error: The file '{file_path}' was not found.\")\n",
    "except pd.errors.EmptyDataError:\n",
    "    print(\"Error: The file is empty.\")\n",
    "except Exception as e:\n",
    "    print(f\"An unexpected error occurred: {e}\")"
   ]
  },
  {
   "cell_type": "code",
   "execution_count": null,
   "id": "664e73ce-f9a3-4efb-9bb2-b679f1dee679",
   "metadata": {},
   "outputs": [],
   "source": []
  }
 ],
 "metadata": {
  "kernelspec": {
   "display_name": "Python 3 (ipykernel)",
   "language": "python",
   "name": "python3"
  },
  "language_info": {
   "codemirror_mode": {
    "name": "ipython",
    "version": 3
   },
   "file_extension": ".py",
   "mimetype": "text/x-python",
   "name": "python",
   "nbconvert_exporter": "python",
   "pygments_lexer": "ipython3",
   "version": "3.12.6"
  }
 },
 "nbformat": 4,
 "nbformat_minor": 5
}
