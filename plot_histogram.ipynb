{
 "cells": [
  {
   "cell_type": "code",
   "execution_count": null,
   "id": "b43fef93-db1f-491f-910a-950e94a9834c",
   "metadata": {},
   "outputs": [],
   "source": [
    "import pandas as pd\n",
    "import matplotlib as plt\n",
    "\n",
    "file_path = 'vehicles.csv'\n",
    "\n",
    "\n",
    "try:\n",
    "    data = pd.read_csv(file_path)\n",
    "    print(\"Load last 5 rows using tail\")\n",
    "    print(data.tail())\n",
    "\n",
    "    print(\"Load fist 5 rows using head\")\n",
    "    print(data.head())\n",
    "\n",
    "    print(\"Load first 5 and last 5 rows using info\")\n",
    "    print(data.info) # combines head and tail functionality\n",
    "    print(data.info()) #it is an error, not transposed, it is like a table\n",
    "\n",
    "    #count : return total numbers of values without null \n",
    "    print(\"Studying count\")\n",
    "    print(data.count())\n",
    "\n",
    "    #value_counts: counts unique categories, like audi=7, bmw=2, \n",
    "    print(\"Studying value_counts\")\n",
    "    print(data.value_counts())\n",
    "\n",
    "    #nunique: counts number of unique values\n",
    "    print(\"Studying nunique\")\n",
    "    print(data.nunique())\n",
    "\n",
    "    #describe: describes counts, mean, frequency, std:standard deviation,\n",
    "    print(\"Studying describe\")\n",
    "    print(data.describe())\n",
    "    # but on quantitative data it dont describe these, it gives count, unique,top and frequency only\n",
    "    # print(\"Describe on quantitative data\")\n",
    "    # sdf = data[['manufacturer','color','body_type','engine_type']]\n",
    "    # print(sdf.describe())\n",
    "\n",
    "    # print(sdf['manufacturer'[:10]]) # equivalence: sdf['manufacturer'].head(10)\n",
    "\n",
    "    # print(sdf['manufacturer'][3:10]) #selecting from 3 to ten(10)\n",
    "\n",
    "    #astype: when cleaning is done before\n",
    "\n",
    "    data['proposed_purchase_price'].plot.hist(bins=30, alpha=0.7,color='blue')\n",
    "    plt.savefig('./purchase_price.png', format='png', dpi=400)\n",
    "    plt.show()\n",
    "\n",
    "except FileNotFoundError:\n",
    "    print(f\"Error: The file '{file_path}' was not found.\")\n",
    "except pd.errors.EmptyDataError:\n",
    "    print(\"Error: The file is empty.\")\n",
    "except Exception as e:\n",
    "    print(f\"An unexpected error occurred: {e}\")\n",
    "\n"
   ]
  },
  {
   "cell_type": "code",
   "execution_count": null,
   "id": "e9d912d4-a9b3-4116-a32b-ace1733de614",
   "metadata": {},
   "outputs": [],
   "source": []
  }
 ],
 "metadata": {
  "kernelspec": {
   "display_name": "Python 3 (ipykernel)",
   "language": "python",
   "name": "python3"
  },
  "language_info": {
   "codemirror_mode": {
    "name": "ipython",
    "version": 3
   },
   "file_extension": ".py",
   "mimetype": "text/x-python",
   "name": "python",
   "nbconvert_exporter": "python",
   "pygments_lexer": "ipython3",
   "version": "3.12.6"
  }
 },
 "nbformat": 4,
 "nbformat_minor": 5
}
