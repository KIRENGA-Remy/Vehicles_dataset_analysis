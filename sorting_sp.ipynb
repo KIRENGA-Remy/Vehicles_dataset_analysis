{
 "cells": [
  {
   "cell_type": "code",
   "execution_count": 3,
   "id": "4c6fbff9-b4ef-446e-a6e3-ae32207f68c9",
   "metadata": {},
   "outputs": [
    {
     "name": "stdout",
     "output_type": "stream",
     "text": [
      "Sorting selling price\n",
      "An unexpected error occurred: name 'df' is not defined\n"
     ]
    }
   ],
   "source": [
    "import pandas as pd\n",
    "\n",
    "\n",
    "file_path = 'vehicles.csv'\n",
    "\n",
    "\n",
    "try:\n",
    "    data = pd.read_csv(file_path)\n",
    "    print('Sorting selling price')\n",
    "    sorted_df = data.sort_values(by='selling_price')\n",
    "    print(sorted_df)\n",
    "\n",
    "    print(\"Dataset successfully loaded!\")\n",
    "    print(data.head())\n",
    "\n",
    "except FileNotFoundError:\n",
    "    print(f\"Error: The file '{file_path}' was not found.\")\n",
    "except pd.errors.EmptyDataError:\n",
    "    print(\"Error: The file is empty.\")\n",
    "except Exception as e:\n",
    "    print(f\"An unexpected error occurred: {e}\")\n",
    "    "
   ]
  },
  {
   "cell_type": "code",
   "execution_count": null,
   "id": "5a802646-97ea-4fe2-8ad0-1f183458fedd",
   "metadata": {},
   "outputs": [],
   "source": []
  }
 ],
 "metadata": {
  "kernelspec": {
   "display_name": "Python 3 (ipykernel)",
   "language": "python",
   "name": "python3"
  },
  "language_info": {
   "codemirror_mode": {
    "name": "ipython",
    "version": 3
   },
   "file_extension": ".py",
   "mimetype": "text/x-python",
   "name": "python",
   "nbconvert_exporter": "python",
   "pygments_lexer": "ipython3",
   "version": "3.12.6"
  }
 },
 "nbformat": 4,
 "nbformat_minor": 5
}
